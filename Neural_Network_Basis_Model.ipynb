{
  "cells": [
    {
      "cell_type": "code",
      "execution_count": 1,
      "metadata": {
        "id": "b7x5PJZsF9Ki"
      },
      "outputs": [],
      "source": [
        "\n",
        "import sklearn\n",
        "import tensorflow as tf\n",
        "from tensorflow import keras\n",
        "import numpy as np\n",
        "\n",
        "# to make this notebook's output stable across runs\n",
        "np.random.seed(42)\n",
        "tf.random.set_seed(42)"
      ]
    },
    {
      "cell_type": "code",
      "execution_count": 2,
      "metadata": {
        "id": "in_4dQEIF9Kk"
      },
      "outputs": [],
      "source": [
        "from sklearn.datasets import fetch_california_housing\n",
        "from sklearn.model_selection import train_test_split\n",
        "from sklearn.preprocessing import StandardScaler\n",
        "\n",
        "housing = fetch_california_housing()\n",
        "\n",
        "X_train_full, X_test, y_train_full, y_test = train_test_split(housing.data, housing.target, random_state=42)\n",
        "X_train, X_valid, y_train, y_valid = train_test_split(X_train_full, y_train_full, random_state=42)\n",
        "\n",
        "scaler = StandardScaler()\n",
        "X_train = scaler.fit_transform(X_train)\n",
        "X_valid = scaler.transform(X_valid)\n",
        "X_test = scaler.transform(X_test)"
      ]
    },
    {
      "cell_type": "code",
      "execution_count": 3,
      "metadata": {
        "id": "K3N4OBUmF9Kl"
      },
      "outputs": [],
      "source": [
        "np.random.seed(42)\n"
      ]
    },
    {
      "cell_type": "markdown",
      "metadata": {
        "id": "CFGmkxs0F9Kl"
      },
      "source": [
        " Designing model"
      ]
    },
    {
      "cell_type": "markdown",
      "metadata": {
        "id": "Cce3QoZbF9Kn"
      },
      "source": [
        "# New Section\n",
        "![image.png](attachment:image.png)"
      ]
    },
    {
      "cell_type": "code",
      "execution_count": 4,
      "metadata": {
        "id": "-0KvO7_8F9Kn"
      },
      "outputs": [],
      "source": [
        "# Define the model\n",
        "new_model = keras.models.Sequential([\n",
        "    keras.layers.Dense(30, activation='relu', input_shape=X_train.shape[1:]),  # First hidden layer with input shape\n",
        "    keras.layers.Dense(30, activation='relu'),  # Second hidden layer\n",
        "    keras.layers.Dense(30, activation='relu'),  # Third hidden layer\n",
        "    keras.layers.Dense(1)  # Output layer with a single neuron for regression output\n",
        "])\n",
        "\n"
      ]
    },
    {
      "cell_type": "code",
      "execution_count": 5,
      "metadata": {
        "id": "PVlxfSnjF9Ko",
        "colab": {
          "base_uri": "https://localhost:8080/"
        },
        "outputId": "f0a633b8-ed61-470a-fa7f-d5ff09b56fd3"
      },
      "outputs": [
        {
          "output_type": "stream",
          "name": "stdout",
          "text": [
            "Epoch 1/20\n",
            "363/363 [==============================] - 6s 8ms/step - loss: 0.7361 - val_loss: 1.0430\n",
            "Epoch 2/20\n",
            "363/363 [==============================] - 2s 6ms/step - loss: 0.4293 - val_loss: 1.0983\n",
            "Epoch 3/20\n",
            "363/363 [==============================] - 2s 6ms/step - loss: 0.3943 - val_loss: 0.3730\n",
            "Epoch 4/20\n",
            "363/363 [==============================] - 1s 2ms/step - loss: 0.3730 - val_loss: 0.3892\n",
            "Epoch 5/20\n",
            "363/363 [==============================] - 1s 2ms/step - loss: 0.3633 - val_loss: 0.3777\n",
            "Epoch 6/20\n",
            "363/363 [==============================] - 1s 3ms/step - loss: 0.3539 - val_loss: 0.3912\n",
            "Epoch 7/20\n",
            "363/363 [==============================] - 1s 4ms/step - loss: 0.3481 - val_loss: 0.3968\n",
            "Epoch 8/20\n",
            "363/363 [==============================] - 1s 3ms/step - loss: 0.3425 - val_loss: 0.3561\n",
            "Epoch 9/20\n",
            "363/363 [==============================] - 1s 2ms/step - loss: 0.3361 - val_loss: 0.3652\n",
            "Epoch 10/20\n",
            "363/363 [==============================] - 1s 4ms/step - loss: 0.3311 - val_loss: 0.3834\n",
            "Epoch 11/20\n",
            "363/363 [==============================] - 2s 6ms/step - loss: 0.3286 - val_loss: 0.3110\n",
            "Epoch 12/20\n",
            "363/363 [==============================] - 3s 7ms/step - loss: 0.3243 - val_loss: 0.3776\n",
            "Epoch 13/20\n",
            "363/363 [==============================] - 2s 5ms/step - loss: 0.3188 - val_loss: 0.3082\n",
            "Epoch 14/20\n",
            "363/363 [==============================] - 2s 5ms/step - loss: 0.3184 - val_loss: 0.2986\n",
            "Epoch 15/20\n",
            "363/363 [==============================] - 4s 11ms/step - loss: 0.3149 - val_loss: 0.3470\n",
            "Epoch 16/20\n",
            "363/363 [==============================] - 2s 5ms/step - loss: 0.3107 - val_loss: 0.2955\n",
            "Epoch 17/20\n",
            "363/363 [==============================] - 2s 4ms/step - loss: 0.3081 - val_loss: 0.4087\n",
            "Epoch 18/20\n",
            "363/363 [==============================] - 1s 4ms/step - loss: 0.3050 - val_loss: 0.3211\n",
            "Epoch 19/20\n",
            "363/363 [==============================] - 1s 2ms/step - loss: 0.3036 - val_loss: 0.3063\n",
            "Epoch 20/20\n",
            "363/363 [==============================] - 1s 2ms/step - loss: 0.3015 - val_loss: 0.3828\n"
          ]
        }
      ],
      "source": [
        "## Configure the model losses and metrics\n",
        "new_model.compile(optimizer='sgd', loss='mean_squared_error')\n",
        "\n",
        "\n",
        "\n",
        "##  train the model using fit\n",
        "history = new_model.fit(X_train, y_train, epochs=20, validation_data=(X_valid,y_valid))\n",
        "\n"
      ]
    },
    {
      "cell_type": "markdown",
      "metadata": {
        "id": "lM9XyVNeF9Ko"
      },
      "source": [
        " Evaluating the Model.Our previous model yielded 0.4082 as the mse score. I"
      ]
    },
    {
      "cell_type": "code",
      "execution_count": null,
      "metadata": {
        "id": "k1EkEMUAF9Ko",
        "colab": {
          "base_uri": "https://localhost:8080/",
          "height": 472
        },
        "outputId": "7ea752ff-83a5-46f4-fabf-91590d922a5d"
      },
      "outputs": [
        {
          "output_type": "display_data",
          "data": {
            "text/plain": [
              "<Figure size 640x480 with 1 Axes>"
            ],
            "image/png": "[encoded data removed]"
          },
          "metadata": {}
        }
      ],
      "source": [
        "## Evaluate model on the training set\n",
        "import matplotlib.pyplot as plt\n",
        "\n",
        "# Plot training & validation loss values\n",
        "plt.plot(history.history['loss'])\n",
        "plt.plot(history.history['val_loss'])\n",
        "plt.title('Model loss')\n",
        "plt.ylabel('Loss')\n",
        "plt.xlabel('Epoch')\n",
        "plt.legend(['Train', 'Validation'], loc='upper left')\n",
        "plt.show()\n"
      ]
    },
    {
      "cell_type": "markdown",
      "source": [
        "\n",
        "We can figure out that the previous model outperformed the new design by comparing these two MSE scores.\n",
        "This conclusion is backed by the fact that lower MSE scores denote better model performance.\n",
        "The MSE measures the average squared difference between predicted values and actual values.\n",
        "The MSE score of 0.4082 from the old model in this instance is less than the MSE score of roughly 1.14106 from the new design,\n",
        "indicating that the old model performed better in terms of prediction due to its smaller errors."
      ],
      "metadata": {
        "id": "IrC5n6tyPy1G"
      }
    }
  ],
  "metadata": {
    "kernelspec": {
      "display_name": "Python 3 (ipykernel)",
      "language": "python",
      "name": "python3"
    },
    "language_info": {
      "codemirror_mode": {
        "name": "ipython",
        "version": 3
      },
      "file_extension": ".py",
      "mimetype": "text/x-python",
      "name": "python",
      "nbconvert_exporter": "python",
      "pygments_lexer": "ipython3",
      "version": "3.9.7"
    },
    "nav_menu": {
      "height": "264px",
      "width": "369px"
    },
    "toc": {
      "navigate_menu": true,
      "number_sections": true,
      "sideBar": true,
      "threshold": 6,
      "toc_cell": false,
      "toc_section_display": "block",
      "toc_window_display": false
    },
    "colab": {
      "provenance": [],
      "toc_visible": true
    }
  },
  "nbformat": 4,
  "nbformat_minor": 0
}